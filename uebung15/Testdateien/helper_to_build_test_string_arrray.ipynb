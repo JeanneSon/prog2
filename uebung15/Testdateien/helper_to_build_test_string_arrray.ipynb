{
 "cells": [
  {
   "cell_type": "code",
   "execution_count": 52,
   "metadata": {},
   "outputs": [],
   "source": [
    "def palindromes_for_testing(string_length):\n",
    "    result = '{ '\n",
    "    s = [\"a\"] * string_length\n",
    "    for i in range(0, 3):\n",
    "        for i in range(0, string_length // 2):\n",
    "            s[i] = s[-i-1] = chr(randrange(97, 123))\n",
    "        aux = \"\".join(s)\n",
    "        result = result + '\"' + aux + '\", '\n",
    "    for i in range(0, string_length // 2):\n",
    "        s[i] = s[-i-1] = chr(randrange(97, 123))\n",
    "    aux = \"\".join(s)\n",
    "    result = result + '\"' + aux + '\" },'\n",
    "    print(result)"
   ]
  },
  {
   "cell_type": "code",
   "execution_count": 67,
   "metadata": {},
   "outputs": [
    {
     "name": "stdout",
     "output_type": "stream",
     "text": [
      "{ \"vmpnhbpenlvwguhweewhugwvlnepbhnpmv\", \"ipifduyhzzkweyzhxxhzyewkzzhyudfipi\", \"acwgxgefnialjvqiwwiqvjlainfegxgwca\", \"ogntowmzmlatwneemmeenwtalmzmwotngo\" },\n"
     ]
    }
   ],
   "source": [
    "palindromes_for_testing(34)"
   ]
  },
  {
   "cell_type": "code",
   "execution_count": 68,
   "metadata": {},
   "outputs": [],
   "source": [
    "def non_palindromes_for_testing(string_length):\n",
    "    result = '{ '\n",
    "    s = [\"a\"] * string_length\n",
    "    for i in range(0, 3):\n",
    "        for i in range(0, string_length // 2):\n",
    "            s[i] = chr(randrange(97, 123))\n",
    "            s[-i-1] = chr(randrange(97, 123))\n",
    "        aux = \"\".join(s)\n",
    "        result = result + '\"' + aux + '\", '\n",
    "    for i in range(0, string_length // 2):\n",
    "        s[i] = chr(randrange(97, 123))\n",
    "        s[-i-1] = chr(randrange(97, 123))\n",
    "    aux = \"\".join(s)\n",
    "    result = result + '\"' + aux + '\" },'\n",
    "    print(result)"
   ]
  },
  {
   "cell_type": "code",
   "execution_count": 69,
   "metadata": {},
   "outputs": [
    {
     "name": "stdout",
     "output_type": "stream",
     "text": [
      "{ \"lat\", \"eap\", \"xam\", \"oah\" },\n"
     ]
    }
   ],
   "source": [
    "non_palindromes_for_testing(3)"
   ]
  },
  {
   "cell_type": "code",
   "execution_count": 70,
   "metadata": {},
   "outputs": [],
   "source": [
    "def get_all():\n",
    "    for i in range(4, 35):\n",
    "        non_palindromes_for_testing(i)"
   ]
  },
  {
   "cell_type": "code",
   "execution_count": 71,
   "metadata": {},
   "outputs": [
    {
     "name": "stdout",
     "output_type": "stream",
     "text": [
      "{ \"hapa\", \"lxun\", \"igtz\", \"skuu\" },\n",
      "{ \"mpaoe\", \"ykamg\", \"anacb\", \"zcani\" },\n",
      "{ \"avvhfu\", \"itxsrh\", \"iebzck\", \"zxcyka\" },\n",
      "{ \"gbeaxfm\", \"rkcazoy\", \"xxwaoyh\", \"iroabaz\" },\n",
      "{ \"rvuigcmw\", \"xglnkidh\", \"vrktyrag\", \"evxuindr\" },\n",
      "{ \"pekkanddx\", \"hdgkakvqd\", \"tihfajqks\", \"ypyhagmgw\" },\n",
      "{ \"zzvgqjhamf\", \"lucowseesa\", \"karsyztlwr\", \"dxwrmrymhg\" },\n",
      "{ \"dimwuadmbxc\", \"jvslxafppep\", \"vdojpafqjpq\", \"xsrfyacquxr\" },\n",
      "{ \"walezieqkhtv\", \"nhiqtayyigeh\", \"uvsuvzsttooa\", \"ujzjgavfbbrv\" },\n",
      "{ \"vmelizancbpei\", \"cdqwgdasakbwa\", \"ohzaaxakcdoey\", \"gpxydcaattfrr\" },\n",
      "{ \"zepkbsxspwmnuj\", \"imtpaghipbgbzn\", \"tiqwzrrtgcotmd\", \"lorzmppnklncjp\" },\n",
      "{ \"qfzjzdpaohgqbfl\", \"xedicnladjcxvhz\", \"ggxsgbravaambxs\", \"bvrtjzfachtyirj\" },\n",
      "{ \"wdszpseqqvbaaant\", \"ersziigzysugtldo\", \"qbraknfmqrunofrn\", \"sejtxmpldyjsxtui\" },\n",
      "{ \"kotgycpkablbxtomj\", \"bizkrtbracjiblcmw\", \"ncaucopqakpoprwjb\", \"jcilxyfuapzetcaly\" },\n",
      "{ \"iucojzeggtyrdgsqvw\", \"gbfvzrnaosqhcroevp\", \"iqypgxpyvevtajvvxi\", \"mqydjmglttccwayews\" },\n",
      "{ \"mjyvklsguaytrzrdrvu\", \"gnlxgxlnjazpcronscv\", \"urnvuviapamjatlqdrv\", \"pfbfntbaoaoidylhdbu\" },\n",
      "{ \"zlzvzcovvxvbxwblcunj\", \"obyboaomkvxpoiopamtz\", \"yvdibokovxyqftzxxuif\", \"uhpuzkujpsavwpeaowtx\" },\n",
      "{ \"vtmzijowzqakuambjgwgk\", \"pnpuzrweffacwkdlibnbf\", \"efpjxohgyuahqvdbhcitl\", \"ozkkouueznabiboxmyixl\" },\n",
      "{ \"vnudtxfledkkrxriammpro\", \"cqxehyppacbvjxmumiaduz\", \"pcddfymhuxsesbznvxxfnu\", \"cnnsailkqrgavorjtwnilk\" },\n",
      "{ \"gpdwkupjhfwavqhakzlcpcu\", \"nvgmttcmbfuahrsggssjkcb\", \"uueiqydfqzzalmlaldpyfnc\", \"wggwyaxsgbtapbgxvgilwkw\" },\n",
      "{ \"rppvibrsmudpqzuryrbgvrct\", \"ttihsvmttnvzyqwkagrbpugt\", \"rlfwibsbtfxzstloswzwpdtq\", \"iyjgsncupnuwebvhcpvwpzay\" },\n",
      "{ \"xzjcmcqlcmbgahpmwvxoinwim\", \"okhplztifafraokgrjnnsanro\", \"bttpqbsbwreaaafzimnqwyebe\", \"nyjhkneqaoopabxfqgiksbyir\" },\n",
      "{ \"ntsxfffyxxdcqkxvrnweghpwwf\", \"dnoeomqlkjzjwhhnseuwcdfgwy\", \"xipinjajesfxupfndvcqkimxvp\", \"rjtqnysdsbtyiazrmagwquyzjr\" },\n",
      "{ \"owudfcnvexhpiaknfpssykkgtom\", \"flwvssofshnfzaypnepaawrdpek\", \"ctzsdgxmihoudatpfxhampnuhzi\", \"mdqilnlougiwhagnhoskdyqiviq\" },\n",
      "{ \"pbtprpkqqwnaluokaawpnlcetgbq\", \"askyfeslwnraohqyekrnknrsnere\", \"lywulrrfljizyqjxcvaeilmxngkq\", \"vbusxnqrzwcbqzrgilfgkzwlsido\" },\n",
      "{ \"bfkuiivwradrdgaggxuqavwzcxvxc\", \"szexqobcinxtskabchoiistqqwbgw\", \"eqndijffpfulsqafkjesoltfcqslb\", \"kkuaoglyyfrusoarghrbdytzoxmez\" },\n",
      "{ \"tdlcxwxrfjljwhrqdctxeeyhkonxul\", \"nrrftofpbdmfaiktaukfdwoozbgwwb\", \"exhvksibicbitfocnifoqtnlaqshyx\", \"rqjamsenkvvqyikltqccnjuypbyffo\" },\n",
      "{ \"dgzomooiysaddwpaleptvsbasxoqgqp\", \"mwzjoralvgkfbyjafnhekwxbkfssvoj\", \"htpchsschvhzkihakrmlbxpmsnqyyzr\", \"upbcgnedkypfcmkadckhsnfuntngfzq\" },\n",
      "{ \"zbpiiiwphydjpvwvldjgetogzoaljnru\", \"zcawimvdabsomafuafxyqngvhizomjyb\", \"iexwmjgmbehsfpqvzuehxbmrzhjalvfm\", \"uzrupjrsklnbhdknmbkhnvlggoqxapys\" },\n",
      "{ \"uadtymvvbxuwabcjacumnumisducpxfqm\", \"nimzudsnfvvhluhxakmxhueguwsfcebxm\", \"dndrmmsexisgdtzeaabqugxouvyudfagw\", \"ozfmnsmkyycpzfzoajwiygyolkxazpvtq\" },\n",
      "{ \"eiqjvojtzzxvfgxxwbqhendkjrikejeyzj\", \"jsiwzhffztqksdakxrhqjbrrdbnwfbbaru\", \"bluthbcvvewfvctapvnxvwdnmoeptxwwdt\", \"pkjeufiixsdskghixfjppajwxmtwktqrbk\" },\n"
     ]
    }
   ],
   "source": [
    "get_all()"
   ]
  }
 ],
 "metadata": {
  "kernelspec": {
   "display_name": "Python 3",
   "language": "python",
   "name": "python3"
  },
  "language_info": {
   "codemirror_mode": {
    "name": "ipython",
    "version": 3
   },
   "file_extension": ".py",
   "mimetype": "text/x-python",
   "name": "python",
   "nbconvert_exporter": "python",
   "pygments_lexer": "ipython3",
   "version": "3.6.5"
  }
 },
 "nbformat": 4,
 "nbformat_minor": 2
}
